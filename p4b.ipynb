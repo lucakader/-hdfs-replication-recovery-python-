{
 "cells": [
  {
   "cell_type": "code",
   "execution_count": 1,
   "id": "22cfee26-82bc-46e9-9acf-06ef456bb51e",
   "metadata": {},
   "outputs": [],
   "source": [
    "import pyarrow.csv\n",
    "import requests\n",
    "import pyarrow as pa\n",
    "import pyarrow.fs\n",
    "import io"
   ]
  },
  {
   "cell_type": "code",
   "execution_count": 2,
   "id": "8e7fafc8-789c-4991-9979-048a49f0298a",
   "metadata": {},
   "outputs": [
    {
     "name": "stdout",
     "output_type": "stream",
     "text": [
      "Configured Capacity: 25821052928 (24.05 GB)\n",
      "Present Capacity: 12364812597 (11.52 GB)\n",
      "DFS Remaining: 12096536576 (11.27 GB)\n",
      "DFS Used: 268276021 (255.85 MB)\n",
      "DFS Used%: 2.17%\n",
      "Replicated Blocks:\n",
      "\tUnder replicated blocks: 167\n",
      "\tBlocks with corrupt replicas: 0\n",
      "\tMissing blocks: 80\n",
      "\tMissing blocks (with replication factor 1): 80\n",
      "\tLow redundancy blocks with highest priority to recover: 167\n",
      "\tPending deletion blocks: 0\n",
      "Erasure Coded Block Groups: \n",
      "\tLow redundancy block groups: 0\n",
      "\tBlock groups with corrupt internal blocks: 0\n",
      "\tMissing block groups: 0\n",
      "\tLow redundancy blocks with highest priority to recover: 0\n",
      "\tPending deletion blocks: 0\n",
      "\n",
      "-------------------------------------------------\n",
      "Live datanodes (1):\n",
      "\n",
      "Name: 172.20.0.2:9866 (project-4-team-koslon-4-dn-1.project-4-team-koslon-4_default)\n",
      "Hostname: c5ac4c6f32f3\n",
      "Decommission Status : Normal\n",
      "Configured Capacity: 25821052928 (24.05 GB)\n",
      "DFS Used: 268276021 (255.85 MB)\n",
      "Non DFS Used: 13439463115 (12.52 GB)\n",
      "DFS Remaining: 12096536576 (11.27 GB)\n",
      "DFS Used%: 1.04%\n",
      "DFS Remaining%: 46.85%\n",
      "Configured Cache Capacity: 0 (0 B)\n",
      "Cache Used: 0 (0 B)\n",
      "Cache Remaining: 0 (0 B)\n",
      "Cache Used%: 100.00%\n",
      "Cache Remaining%: 0.00%\n",
      "Xceivers: 0\n",
      "Last contact: Fri Oct 27 17:11:31 GMT 2023\n",
      "Last Block Report: Fri Oct 27 17:07:25 GMT 2023\n",
      "Num of Blocks: 254\n",
      "\n",
      "\n",
      "Dead datanodes (1):\n",
      "\n",
      "Name: 172.20.0.5:9866 (172.20.0.5)\n",
      "Hostname: e0a32136407f\n",
      "Decommission Status : Normal\n",
      "Configured Capacity: 25821052928 (24.05 GB)\n",
      "DFS Used: 260709191 (248.63 MB)\n",
      "Non DFS Used: 13445612729 (12.52 GB)\n",
      "DFS Remaining: 12097953792 (11.27 GB)\n",
      "DFS Used%: 1.01%\n",
      "DFS Remaining%: 46.85%\n",
      "Configured Cache Capacity: 0 (0 B)\n",
      "Cache Used: 0 (0 B)\n",
      "Cache Remaining: 0 (0 B)\n",
      "Cache Used%: 100.00%\n",
      "Cache Remaining%: 0.00%\n",
      "Xceivers: 0\n",
      "Last contact: Fri Oct 27 17:09:43 GMT 2023\n",
      "Last Block Report: Fri Oct 27 17:07:25 GMT 2023\n",
      "Num of Blocks: 0\n",
      "\n",
      "\n"
     ]
    }
   ],
   "source": [
    "#Q8: how many live DataNodes are in the cluster?\n",
    "!hdfs dfsadmin -fs hdfs://boss:9000 -report"
   ]
  },
  {
   "cell_type": "code",
   "execution_count": 3,
   "id": "503fe10d-9f83-403c-a619-fced8e5a4ddd",
   "metadata": {},
   "outputs": [],
   "source": [
    "import time\n",
    "time.sleep(30)"
   ]
  },
  {
   "cell_type": "code",
   "execution_count": 4,
   "id": "c0ac63ae-2240-440d-be8e-f17587c6085c",
   "metadata": {},
   "outputs": [
    {
     "data": {
      "text/plain": [
       "{'c5ac4c6f32f3': 87, 'lost': 80}"
      ]
     },
     "execution_count": 4,
     "metadata": {},
     "output_type": "execute_result"
    }
   ],
   "source": [
    "#Q9: how are the blocks of single.csv distributed across the DataNode containers?\n",
    "url = \"http://boss:9870/webhdfs/v1/single.csv?op=GETFILEBLOCKLOCATIONS\"\n",
    "response = requests.get(url)\n",
    "if response.status_code == 200:\n",
    "    file_status = response.json()\n",
    "    #print(file_status)\n",
    "else:\n",
    "    print(f\"Error {response.status_code}: {response.text}\")\n",
    "\n",
    "block_locs = {}\n",
    "key = 'hosts'\n",
    "\n",
    "block_location_dict = file_status['BlockLocations']\n",
    "\n",
    "block_location_list = block_location_dict['BlockLocation']\n",
    "\n",
    "for block in block_location_list:\n",
    "    host = block[key]\n",
    "    if host == []:\n",
    "        if 'lost' in block_locs:\n",
    "            block_locs['lost'] += 1\n",
    "        else:\n",
    "            block_locs['lost'] = 1\n",
    "    elif host[0] in block_locs:\n",
    "        block_locs[host[0]] += 1\n",
    "    else:\n",
    "        block_locs[host[0]] = 1\n",
    "\n",
    "block_locs"
   ]
  },
  {
   "cell_type": "code",
   "execution_count": null,
   "id": "ed17b513-bc02-4640-9c78-210d9dfdd2a6",
   "metadata": {},
   "outputs": [],
   "source": []
  },
  {
   "cell_type": "code",
   "execution_count": 5,
   "id": "268843a2-dc47-4229-8fa7-1237a4540751",
   "metadata": {},
   "outputs": [
    {
     "name": "stderr",
     "output_type": "stream",
     "text": [
      "2023-10-27 17:12:04,727 WARN util.NativeCodeLoader: Unable to load native-hadoop library for your platform... using builtin-java classes where applicable\n"
     ]
    },
    {
     "data": {
      "text/plain": [
       "87"
      ]
     },
     "execution_count": 5,
     "metadata": {},
     "output_type": "execute_result"
    }
   ],
   "source": [
    "#Q10: how many times does the text \"Single Family\" appear in the remaining blocks of single.csv?\n",
    "hdfs = pa.fs.HadoopFileSystem(\"boss\",9000)\n",
    "count = 0\n",
    "tuples = []\n",
    "for block in block_location_list:\n",
    "    host = block[key]\n",
    "    offset = 0\n",
    "    length = 0\n",
    "    if host == []:\n",
    "        continue\n",
    "    else:\n",
    "        offset = block[\"offset\"]\n",
    "        length = block[\"length\"]\n",
    "        tuples.append((length, offset))\n",
    "        #url = f\"http://boss:9870/webhdfs/v1/single.csv?op=OPEN&offset={offset}&length={length}&noredirect=true\"\n",
    "        #response = requests.get(url)\n",
    "        #print(response.content)\n",
    "with hdfs.open_input_file(\"/single.csv\") as f:\n",
    "        for t in tuples: \n",
    "            #print(\"HI\")\n",
    "            string = f.read_at(t[0],t[1])\n",
    "            #print(string)\n",
    "            text_string = string.decode('utf-8')\n",
    "            if \"Single Family\" in text_string:\n",
    "                count += 1\n",
    "\n",
    "count\n"
   ]
  },
  {
   "cell_type": "code",
   "execution_count": null,
   "id": "e84ef133-d984-4bef-9544-ffd3f9f79a76",
   "metadata": {},
   "outputs": [],
   "source": []
  },
  {
   "cell_type": "code",
   "execution_count": null,
   "id": "4adaa7f9-1f55-412a-96db-8b959d396f37",
   "metadata": {},
   "outputs": [],
   "source": []
  }
 ],
 "metadata": {
  "kernelspec": {
   "display_name": "Python 3 (ipykernel)",
   "language": "python",
   "name": "python3"
  },
  "language_info": {
   "codemirror_mode": {
    "name": "ipython",
    "version": 3
   },
   "file_extension": ".py",
   "mimetype": "text/x-python",
   "name": "python",
   "nbconvert_exporter": "python",
   "pygments_lexer": "ipython3",
   "version": "3.10.12"
  }
 },
 "nbformat": 4,
 "nbformat_minor": 5
}
