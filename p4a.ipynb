{
 "cells": [
  {
   "cell_type": "code",
   "execution_count": 1,
   "id": "14425f24-3d9c-4b87-9e1b-520d87b67cb3",
   "metadata": {},
   "outputs": [
    {
     "name": "stdout",
     "output_type": "stream",
     "text": [
      "Collecting pandas\n",
      "  Downloading pandas-2.1.2-cp310-cp310-manylinux_2_17_x86_64.manylinux2014_x86_64.whl (12.3 MB)\n",
      "\u001b[2K     \u001b[90m━━━━━━━━━━━━━━━━━━━━━━━━━━━━━━━━━━━━━━━━\u001b[0m \u001b[32m12.3/12.3 MB\u001b[0m \u001b[31m17.2 MB/s\u001b[0m eta \u001b[36m0:00:00\u001b[0m00:01\u001b[0m00:01\u001b[0m\n",
      "\u001b[?25hCollecting tzdata>=2022.1\n",
      "  Downloading tzdata-2023.3-py2.py3-none-any.whl (341 kB)\n",
      "\u001b[2K     \u001b[90m━━━━━━━━━━━━━━━━━━━━━━━━━━━━━━━━━━━━━━\u001b[0m \u001b[32m341.8/341.8 KB\u001b[0m \u001b[31m25.6 MB/s\u001b[0m eta \u001b[36m0:00:00\u001b[0m\n",
      "\u001b[?25hRequirement already satisfied: numpy<2,>=1.22.4 in /usr/local/lib/python3.10/dist-packages (from pandas) (1.26.1)\n",
      "Requirement already satisfied: python-dateutil>=2.8.2 in /usr/local/lib/python3.10/dist-packages (from pandas) (2.8.2)\n",
      "Collecting pytz>=2020.1\n",
      "  Downloading pytz-2023.3.post1-py2.py3-none-any.whl (502 kB)\n",
      "\u001b[2K     \u001b[90m━━━━━━━━━━━━━━━━━━━━━━━━━━━━━━━━━━━━━━\u001b[0m \u001b[32m502.5/502.5 KB\u001b[0m \u001b[31m42.3 MB/s\u001b[0m eta \u001b[36m0:00:00\u001b[0m\n",
      "\u001b[?25hRequirement already satisfied: six>=1.5 in /usr/local/lib/python3.10/dist-packages (from python-dateutil>=2.8.2->pandas) (1.16.0)\n",
      "Installing collected packages: pytz, tzdata, pandas\n",
      "Successfully installed pandas-2.1.2 pytz-2023.3.post1 tzdata-2023.3\n",
      "\u001b[33mWARNING: Running pip as the 'root' user can result in broken permissions and conflicting behaviour with the system package manager. It is recommended to use a virtual environment instead: https://pip.pypa.io/warnings/venv\u001b[0m\u001b[33m\n",
      "\u001b[0m"
     ]
    }
   ],
   "source": [
    "!pip install pandas\n",
    "import pandas as pd\n",
    "import pyarrow.csv\n",
    "import requests\n",
    "import pyarrow as pa\n",
    "import pyarrow.fs\n",
    "import io"
   ]
  },
  {
   "cell_type": "code",
   "execution_count": 2,
   "id": "7ddcfe9a-d049-41e8-a9c3-712baf0fcf81",
   "metadata": {},
   "outputs": [
    {
     "name": "stdout",
     "output_type": "stream",
     "text": [
      "Configured Capacity: 51642105856 (48.10 GB)\n",
      "Present Capacity: 25260875776 (23.53 GB)\n",
      "DFS Remaining: 25260826624 (23.53 GB)\n",
      "DFS Used: 49152 (48 KB)\n",
      "DFS Used%: 0.00%\n",
      "Replicated Blocks:\n",
      "\tUnder replicated blocks: 0\n",
      "\tBlocks with corrupt replicas: 0\n",
      "\tMissing blocks: 0\n",
      "\tMissing blocks (with replication factor 1): 0\n",
      "\tLow redundancy blocks with highest priority to recover: 0\n",
      "\tPending deletion blocks: 0\n",
      "Erasure Coded Block Groups: \n",
      "\tLow redundancy block groups: 0\n",
      "\tBlock groups with corrupt internal blocks: 0\n",
      "\tMissing block groups: 0\n",
      "\tLow redundancy blocks with highest priority to recover: 0\n",
      "\tPending deletion blocks: 0\n",
      "\n",
      "-------------------------------------------------\n",
      "Live datanodes (2):\n",
      "\n",
      "Name: 172.20.0.2:9866 (project-4-team-koslon-4-dn-1.project-4-team-koslon-4_default)\n",
      "Hostname: c5ac4c6f32f3\n",
      "Decommission Status : Normal\n",
      "Configured Capacity: 25821052928 (24.05 GB)\n",
      "DFS Used: 24576 (24 KB)\n",
      "Non DFS Used: 13173837824 (12.27 GB)\n",
      "DFS Remaining: 12630413312 (11.76 GB)\n",
      "DFS Used%: 0.00%\n",
      "DFS Remaining%: 48.92%\n",
      "Configured Cache Capacity: 0 (0 B)\n",
      "Cache Used: 0 (0 B)\n",
      "Cache Remaining: 0 (0 B)\n",
      "Cache Used%: 100.00%\n",
      "Cache Remaining%: 0.00%\n",
      "Xceivers: 0\n",
      "Last contact: Fri Oct 27 17:08:34 GMT 2023\n",
      "Last Block Report: Fri Oct 27 17:07:25 GMT 2023\n",
      "Num of Blocks: 0\n",
      "\n",
      "\n",
      "Name: 172.20.0.5:9866 (project-4-team-koslon-4-dn-2.project-4-team-koslon-4_default)\n",
      "Hostname: e0a32136407f\n",
      "Decommission Status : Normal\n",
      "Configured Capacity: 25821052928 (24.05 GB)\n",
      "DFS Used: 24576 (24 KB)\n",
      "Non DFS Used: 13173837824 (12.27 GB)\n",
      "DFS Remaining: 12630413312 (11.76 GB)\n",
      "DFS Used%: 0.00%\n",
      "DFS Remaining%: 48.92%\n",
      "Configured Cache Capacity: 0 (0 B)\n",
      "Cache Used: 0 (0 B)\n",
      "Cache Remaining: 0 (0 B)\n",
      "Cache Used%: 100.00%\n",
      "Cache Remaining%: 0.00%\n",
      "Xceivers: 0\n",
      "Last contact: Fri Oct 27 17:08:34 GMT 2023\n",
      "Last Block Report: Fri Oct 27 17:07:25 GMT 2023\n",
      "Num of Blocks: 0\n",
      "\n",
      "\n"
     ]
    }
   ],
   "source": [
    "#Q1: how many live DataNodes are in the cluster?\n",
    "\n",
    "!hdfs dfsadmin -fs hdfs://boss:9000 -report"
   ]
  },
  {
   "cell_type": "code",
   "execution_count": 3,
   "id": "29b40a3c-4026-4853-9ca4-27aeb10e1a1d",
   "metadata": {},
   "outputs": [],
   "source": [
    "wi = pyarrow.csv.read_csv(\"hdma-wi-2021.csv\")"
   ]
  },
  {
   "cell_type": "code",
   "execution_count": 4,
   "id": "1805b040-4eee-45aa-a788-68c7687f51d3",
   "metadata": {},
   "outputs": [],
   "source": [
    "!hdfs dfs -rm -f hdfs://boss:9000/single.csv\n",
    "!hdfs dfs -rm -f hdfs://boss:9000/double.csv"
   ]
  },
  {
   "cell_type": "code",
   "execution_count": 5,
   "id": "feed8a6c-34be-4e9b-a5c3-0d075f6e2008",
   "metadata": {},
   "outputs": [],
   "source": [
    "!hdfs dfs -D dfs.block.size=1048576 -D dfs.replication=1 -cp hdma-wi-2021.csv hdfs://boss:9000/single.csv\n",
    "!hdfs dfs -D dfs.block.size=1048576 -D dfs.replication=2 -cp hdma-wi-2021.csv hdfs://boss:9000/double.csv"
   ]
  },
  {
   "cell_type": "code",
   "execution_count": 6,
   "id": "ce5c49f2-70fa-4772-8ee4-f110ee94ffe0",
   "metadata": {},
   "outputs": [
    {
     "name": "stdout",
     "output_type": "stream",
     "text": [
      "166.8 M  333.7 M  hdfs://boss:9000/double.csv\n",
      "166.8 M  166.8 M  hdfs://boss:9000/single.csv\n"
     ]
    }
   ],
   "source": [
    "#Q2: what are the logical and physical sizes?\n",
    "!hdfs dfs -du -h hdfs://boss:9000/double.csv hdfs://boss:9000/single.csv"
   ]
  },
  {
   "cell_type": "code",
   "execution_count": 7,
   "id": "053dc90c-3895-46b0-9084-6b919af3070b",
   "metadata": {},
   "outputs": [],
   "source": [
    "#Q2: "
   ]
  },
  {
   "cell_type": "code",
   "execution_count": 8,
   "id": "802cc742-aeb5-43e7-9e03-e4657ee409d2",
   "metadata": {
    "jupyter": {
     "source_hidden": true
    }
   },
   "outputs": [
    {
     "name": "stdout",
     "output_type": "stream",
     "text": [
      "{'FileStatus': {'accessTime': 1698426532650, 'blockSize': 1048576, 'childrenNum': 0, 'fileId': 16386, 'group': 'supergroup', 'length': 174944099, 'modificationTime': 1698426538212, 'owner': 'root', 'pathSuffix': '', 'permission': '644', 'replication': 1, 'storagePolicy': 0, 'type': 'FILE'}}\n"
     ]
    }
   ],
   "source": [
    "#Q3: what is the file status for single.csv?\n",
    "url = \"http://boss:9870/webhdfs/v1/single.csv?op=GETFILESTATUS\"\n",
    "response = requests.get(url)\n",
    "if response.status_code == 200:\n",
    "    file_status = response.json()\n",
    "    print(file_status)\n",
    "else:\n",
    "    print(f\"Error {response.status_code}: {response.text}\")"
   ]
  },
  {
   "cell_type": "code",
   "execution_count": 9,
   "id": "64c5dc42-fde0-45f6-a3c7-73512ea87cda",
   "metadata": {},
   "outputs": [
    {
     "name": "stdout",
     "output_type": "stream",
     "text": [
      "http://c5ac4c6f32f3:9864/webhdfs/v1/single.csv?op=OPEN&namenoderpcaddress=boss:9000&offset=0\n"
     ]
    }
   ],
   "source": [
    "#Q4: what is the location for the first block of single.csv?\n",
    "url = \"http://boss:9870/webhdfs/v1/single.csv?op=OPEN&offset=0&noredirect=true\"\n",
    "response = requests.get(url)\n",
    "if response.status_code == 200:\n",
    "    file_status = response.json()\n",
    "    print(file_status[\"Location\"])\n",
    "else:\n",
    "    print(f\"Error {response.status_code}: {response.text}\")"
   ]
  },
  {
   "cell_type": "code",
   "execution_count": 10,
   "id": "dc764c6f-bfda-40f2-b1fb-efd70fadf7dc",
   "metadata": {
    "scrolled": true
   },
   "outputs": [
    {
     "data": {
      "text/plain": [
       "{'c5ac4c6f32f3': 87, 'e0a32136407f': 80}"
      ]
     },
     "execution_count": 10,
     "metadata": {},
     "output_type": "execute_result"
    }
   ],
   "source": [
    "#Q5: how are the blocks of single.csv distributed across the two DataNode containers?\n",
    "url = \"http://boss:9870/webhdfs/v1/single.csv?op=GETFILEBLOCKLOCATIONS\"\n",
    "response = requests.get(url)\n",
    "if response.status_code == 200:\n",
    "    file_status = response.json()\n",
    "    #print(file_status)\n",
    "else:\n",
    "    print(f\"Error {response.status_code}: {response.text}\")\n",
    "\n",
    "block_locs = {}\n",
    "key = 'hosts'\n",
    "\n",
    "block_location_dict = file_status['BlockLocations']\n",
    "\n",
    "block_location_list = block_location_dict['BlockLocation']\n",
    "\n",
    "for block in block_location_list:\n",
    "    host = block[key][0]  # Assuming 'hosts' is a list with a single element\n",
    "    if host in block_locs:\n",
    "        block_locs[host] += 1\n",
    "    else:\n",
    "        block_locs[host] = 1\n",
    "\n",
    "block_locs"
   ]
  },
  {
   "cell_type": "code",
   "execution_count": 11,
   "id": "d9d848d0-53b2-43bd-8f07-acb62b958733",
   "metadata": {},
   "outputs": [
    {
     "data": {
      "text/plain": [
       "167"
      ]
     },
     "execution_count": 11,
     "metadata": {},
     "output_type": "execute_result"
    }
   ],
   "source": [
    "len(block_location_list)"
   ]
  },
  {
   "cell_type": "code",
   "execution_count": 12,
   "id": "4096492d-3901-41cd-aa23-1cff38f53fc7",
   "metadata": {},
   "outputs": [
    {
     "name": "stderr",
     "output_type": "stream",
     "text": [
      "2023-10-27 17:09:23,006 WARN util.NativeCodeLoader: Unable to load native-hadoop library for your platform... using builtin-java classes where applicable\n"
     ]
    },
    {
     "name": "stdout",
     "output_type": "stream",
     "text": [
      "b'activity_y'\n"
     ]
    }
   ],
   "source": [
    "#Q6: what are the first 10 bytes of single.csv?\n",
    "hdfs = pa.fs.HadoopFileSystem(\"boss\",9000)\n",
    "with hdfs.open_input_file(\"/single.csv\") as f:\n",
    "    first10 = f.read_at(10,0)\n",
    "\n",
    "first10"
   ]
  },
  {
   "cell_type": "code",
   "execution_count": 13,
   "id": "acdfec7e-a94b-4044-9b36-c73a876693ca",
   "metadata": {},
   "outputs": [
    {
     "data": {
      "text/plain": [
       "444874"
      ]
     },
     "execution_count": 13,
     "metadata": {},
     "output_type": "execute_result"
    }
   ],
   "source": [
    "#Q7: how many lines of single.csv contain the string \"Single Family\"?\n",
    "with hdfs.open_input_file(\"/single.csv\") as f:\n",
    "    reader = io.TextIOWrapper(io.BufferedReader(f))\n",
    "    count = 0\n",
    "    for i, line in enumerate(reader):\n",
    "        if \"Single Family\" in line:\n",
    "            count += 1\n",
    "count"
   ]
  },
  {
   "cell_type": "code",
   "execution_count": null,
   "id": "ba6c0957-31fc-4398-9a06-b43a94cdc5b1",
   "metadata": {},
   "outputs": [],
   "source": []
  }
 ],
 "metadata": {
  "kernelspec": {
   "display_name": "Python 3 (ipykernel)",
   "language": "python",
   "name": "python3"
  },
  "language_info": {
   "codemirror_mode": {
    "name": "ipython",
    "version": 3
   },
   "file_extension": ".py",
   "mimetype": "text/x-python",
   "name": "python",
   "nbconvert_exporter": "python",
   "pygments_lexer": "ipython3",
   "version": "3.10.12"
  }
 },
 "nbformat": 4,
 "nbformat_minor": 5
}
